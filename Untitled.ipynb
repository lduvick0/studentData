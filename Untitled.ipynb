{
 "cells": [
  {
   "cell_type": "code",
   "execution_count": 2,
   "id": "f0c70334",
   "metadata": {},
   "outputs": [],
   "source": [
    "import pandas as pd\n",
    "import numpy as np\n",
    "import scipy"
   ]
  },
  {
   "cell_type": "code",
   "execution_count": 3,
   "id": "1ff83536",
   "metadata": {},
   "outputs": [
    {
     "data": {
      "text/html": [
       "<div>\n",
       "<style scoped>\n",
       "    .dataframe tbody tr th:only-of-type {\n",
       "        vertical-align: middle;\n",
       "    }\n",
       "\n",
       "    .dataframe tbody tr th {\n",
       "        vertical-align: top;\n",
       "    }\n",
       "\n",
       "    .dataframe thead th {\n",
       "        text-align: right;\n",
       "    }\n",
       "</style>\n",
       "<table border=\"1\" class=\"dataframe\">\n",
       "  <thead>\n",
       "    <tr style=\"text-align: right;\">\n",
       "      <th></th>\n",
       "      <th>Name</th>\n",
       "      <th>Math</th>\n",
       "      <th>Science</th>\n",
       "      <th>Reading</th>\n",
       "      <th>History</th>\n",
       "    </tr>\n",
       "  </thead>\n",
       "  <tbody>\n",
       "    <tr>\n",
       "      <th>0</th>\n",
       "      <td>Adam</td>\n",
       "      <td>11.0</td>\n",
       "      <td>9.0</td>\n",
       "      <td>16.0</td>\n",
       "      <td>13.5</td>\n",
       "    </tr>\n",
       "    <tr>\n",
       "      <th>1</th>\n",
       "      <td>Anna</td>\n",
       "      <td>12.0</td>\n",
       "      <td>11.0</td>\n",
       "      <td>8.5</td>\n",
       "      <td>10.0</td>\n",
       "    </tr>\n",
       "    <tr>\n",
       "      <th>2</th>\n",
       "      <td>James</td>\n",
       "      <td>11.0</td>\n",
       "      <td>18.0</td>\n",
       "      <td>11.5</td>\n",
       "      <td>9.0</td>\n",
       "    </tr>\n",
       "    <tr>\n",
       "      <th>3</th>\n",
       "      <td>Corey</td>\n",
       "      <td>7.0</td>\n",
       "      <td>15.5</td>\n",
       "      <td>11.0</td>\n",
       "      <td>14.0</td>\n",
       "    </tr>\n",
       "    <tr>\n",
       "      <th>4</th>\n",
       "      <td>Alisha</td>\n",
       "      <td>9.5</td>\n",
       "      <td>12.0</td>\n",
       "      <td>10.5</td>\n",
       "      <td>14.0</td>\n",
       "    </tr>\n",
       "    <tr>\n",
       "      <th>5</th>\n",
       "      <td>Jodie</td>\n",
       "      <td>15.0</td>\n",
       "      <td>18.5</td>\n",
       "      <td>7.0</td>\n",
       "      <td>12.0</td>\n",
       "    </tr>\n",
       "    <tr>\n",
       "      <th>6</th>\n",
       "      <td>John</td>\n",
       "      <td>18.0</td>\n",
       "      <td>15.5</td>\n",
       "      <td>11.0</td>\n",
       "      <td>7.5</td>\n",
       "    </tr>\n",
       "  </tbody>\n",
       "</table>\n",
       "</div>"
      ],
      "text/plain": [
       "     Name  Math  Science  Reading  History\n",
       "0    Adam  11.0      9.0     16.0     13.5\n",
       "1    Anna  12.0     11.0      8.5     10.0\n",
       "2   James  11.0     18.0     11.5      9.0\n",
       "3   Corey   7.0     15.5     11.0     14.0\n",
       "4  Alisha   9.5     12.0     10.5     14.0\n",
       "5   Jodie  15.0     18.5      7.0     12.0\n",
       "6    John  18.0     15.5     11.0      7.5"
      ]
     },
     "metadata": {},
     "output_type": "display_data"
    }
   ],
   "source": [
    "studentData = {\n",
    "    'Name': ['Adam', 'Anna', 'James', 'Corey', 'Alisha', 'Jodie', 'John'],\n",
    "    'Math': [11, 12, 11, 7, 9.5, 15, 18],\n",
    "    'Science': [9, 11, 18, 15.5, 12, 18.5, 15.5],\n",
    "    'Reading': [16, 8.5, 11.5, 11, 10.5, 7, 11],\n",
    "    'History': [13.5, 10, 9, 14, 14, 12, 7.5]\n",
    "\n",
    "}\n",
    "\n",
    "df=pd.DataFrame(studentData)\n",
    "display(df)"
   ]
  },
  {
   "cell_type": "code",
   "execution_count": 13,
   "id": "c2a21286",
   "metadata": {},
   "outputs": [
    {
     "data": {
      "text/plain": [
       "11.928571428571429"
      ]
     },
     "execution_count": 13,
     "metadata": {},
     "output_type": "execute_result"
    }
   ],
   "source": [
    "df['Math'].mean()"
   ]
  },
  {
   "cell_type": "code",
   "execution_count": 14,
   "id": "7e13dbca",
   "metadata": {},
   "outputs": [
    {
     "data": {
      "text/plain": [
       "14.214285714285714"
      ]
     },
     "execution_count": 14,
     "metadata": {},
     "output_type": "execute_result"
    }
   ],
   "source": [
    "df['Science'].mean()"
   ]
  },
  {
   "cell_type": "code",
   "execution_count": 15,
   "id": "e3d61ce4",
   "metadata": {},
   "outputs": [
    {
     "data": {
      "text/plain": [
       "10.785714285714286"
      ]
     },
     "execution_count": 15,
     "metadata": {},
     "output_type": "execute_result"
    }
   ],
   "source": [
    "df['Reading'].mean()"
   ]
  },
  {
   "cell_type": "code",
   "execution_count": 16,
   "id": "b0b17359",
   "metadata": {},
   "outputs": [
    {
     "data": {
      "text/plain": [
       "11.428571428571429"
      ]
     },
     "execution_count": 16,
     "metadata": {},
     "output_type": "execute_result"
    }
   ],
   "source": [
    "df['History'].mean()"
   ]
  },
  {
   "cell_type": "code",
   "execution_count": 17,
   "id": "67985afc",
   "metadata": {},
   "outputs": [
    {
     "data": {
      "text/plain": [
       "11.0"
      ]
     },
     "execution_count": 17,
     "metadata": {},
     "output_type": "execute_result"
    }
   ],
   "source": [
    "df['Math'].median()"
   ]
  },
  {
   "cell_type": "code",
   "execution_count": 18,
   "id": "10dc2c58",
   "metadata": {},
   "outputs": [
    {
     "data": {
      "text/plain": [
       "0    14.0\n",
       "Name: History, dtype: float64"
      ]
     },
     "execution_count": 18,
     "metadata": {},
     "output_type": "execute_result"
    }
   ],
   "source": [
    "df['History'].mode()"
   ]
  },
  {
   "cell_type": "code",
   "execution_count": 7,
   "id": "40003d7a",
   "metadata": {},
   "outputs": [
    {
     "name": "stdout",
     "output_type": "stream",
     "text": [
      "             Math   Science   Reading   History\n",
      "Math     1.000000  0.269494 -0.268562 -0.718358\n",
      "Science  0.269494  1.000000 -0.527606 -0.358688\n",
      "Reading -0.268562 -0.527606  1.000000  0.206794\n",
      "History -0.718358 -0.358688  0.206794  1.000000\n"
     ]
    }
   ],
   "source": [
    "corrdf=df.corr(numeric_only = True)\n",
    "print(corrdf)"
   ]
  },
  {
   "cell_type": "code",
   "execution_count": 8,
   "id": "6fd74f86",
   "metadata": {},
   "outputs": [
    {
     "name": "stdout",
     "output_type": "stream",
     "text": [
      "Math     Science    0.269494\n",
      "Science  Math       0.269494\n",
      "dtype: float64\n"
     ]
    }
   ],
   "source": [
    "sorcorrdf=corrdf.unstack().sort_values(ascending=False)\n",
    "print(sorcorrdf[sorcorrdf<1].head(2))"
   ]
  },
  {
   "cell_type": "code",
   "execution_count": 19,
   "id": "fffea7e6",
   "metadata": {},
   "outputs": [
    {
     "name": "stdout",
     "output_type": "stream",
     "text": [
      "mean: 59.47826086956522\n",
      "median: 60.0\n",
      "mode: 0    60\n",
      "dtype: int64\n",
      "minimum: 5\n",
      "maximum:  99\n",
      "range:  94\n",
      "variance:  694.3517786561266\n",
      "standard deviation:  26.350555566365703\n"
     ]
    }
   ],
   "source": [
    "def desc_stats(num):\n",
    "    numSeries=pd.Series(num)   \n",
    "    minVal=numSeries.min()\n",
    "    maxVal=numSeries.max()\n",
    "    menVal=numSeries.mean()\n",
    "    medVal=numSeries.median()\n",
    "    modVal=numSeries.mode()\n",
    "    ranVal=maxVal-minVal\n",
    "    varVal=numSeries.var()\n",
    "    stdVal=numSeries.std()\n",
    "    print('mean:',menVal)\n",
    "    print('median:',medVal)\n",
    "    print('mode:',modVal)\n",
    "    print('minimum:',minVal)\n",
    "    print('maximum: ',maxVal)\n",
    "    print('range: ',ranVal)\n",
    "    print('variance: ',varVal)\n",
    "    print('standard deviation: ', stdVal)\n",
    "    \n",
    "stuData=[24, 5, 15, 60, 54, 82, 99, 80, 70, 98, 93, 60, 33, 22, 65, 61, 51, 58, 83, 86, 42, 67, 60]\n",
    "desc_stats(stuData)"
   ]
  },
  {
   "cell_type": "code",
   "execution_count": null,
   "id": "a880afa4",
   "metadata": {},
   "outputs": [],
   "source": []
  }
 ],
 "metadata": {
  "kernelspec": {
   "display_name": "Python 3 (ipykernel)",
   "language": "python",
   "name": "python3"
  },
  "language_info": {
   "codemirror_mode": {
    "name": "ipython",
    "version": 3
   },
   "file_extension": ".py",
   "mimetype": "text/x-python",
   "name": "python",
   "nbconvert_exporter": "python",
   "pygments_lexer": "ipython3",
   "version": "3.11.5"
  }
 },
 "nbformat": 4,
 "nbformat_minor": 5
}
